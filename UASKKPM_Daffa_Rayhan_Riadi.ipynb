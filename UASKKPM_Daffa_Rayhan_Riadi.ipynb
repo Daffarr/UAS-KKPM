{
  "cells": [
    {
      "cell_type": "markdown",
      "metadata": {
        "id": "view-in-github",
        "colab_type": "text"
      },
      "source": [
        "<a href=\"https://colab.research.google.com/github/Daffarr/UAS-KKPM/blob/main/UASKKPM_Daffa_Rayhan_Riadi.ipynb\" target=\"_parent\"><img src=\"https://colab.research.google.com/assets/colab-badge.svg\" alt=\"Open In Colab\"/></a>"
      ]
    },
    {
      "cell_type": "markdown",
      "metadata": {
        "id": "Gisi9Et65mRQ"
      },
      "source": [
        "**Import Semua Library yang Diperlukan**"
      ]
    },
    {
      "cell_type": "code",
      "execution_count": null,
      "metadata": {
        "id": "zFXwOGUEJ3z5"
      },
      "outputs": [],
      "source": [
        "import pandas as pd\n",
        "import numpy as np\n",
        "\n",
        "# Meng-ekstrak file zip\n",
        "import zipfile, os\n",
        "\n",
        "# pencarian dan pengelolaan file\n",
        "import glob\n",
        "\n",
        "# memproses dan menganalisis gambar\n",
        "import cv2\n",
        "\n",
        "# Melakukan Split Dataset\n",
        "from sklearn.model_selection import train_test_split\n",
        "\n",
        "# Melakukan pencarian parameter terbaik\n",
        "from sklearn.model_selection import GridSearchCV\n",
        "\n",
        "# Model\n",
        "from sklearn.svm import SVC\n",
        "from sklearn.ensemble import RandomForestClassifier\n",
        "from sklearn.neighbors import KNeighborsClassifier\n",
        "\n",
        "# Menguji Model\n",
        "from sklearn.metrics import confusion_matrix, accuracy_score, classification_report\n",
        "\n",
        "# Visualisasi Akurasi\n",
        "import matplotlib.pyplot as plt"
      ]
    },
    {
      "cell_type": "markdown",
      "source": [
        "**Mengimport Dataset Melalui API Kaggle**"
      ],
      "metadata": {
        "id": "XU8_sCuRHNp3"
      }
    },
    {
      "cell_type": "code",
      "execution_count": null,
      "metadata": {
        "id": "4BB7lAk0-nvk"
      },
      "outputs": [],
      "source": [
        "!chmod 600 /content/kaggle.json"
      ]
    },
    {
      "cell_type": "code",
      "execution_count": null,
      "metadata": {
        "colab": {
          "base_uri": "https://localhost:8080/"
        },
        "id": "H5C4LLUfO9GT",
        "outputId": "b8f9210b-e35d-445e-836b-5a46daaf2eb0"
      },
      "outputs": [
        {
          "output_type": "stream",
          "name": "stdout",
          "text": [
            "Downloading cotton-weed-classification-dataset.zip to /content\n",
            " 84% 58.0M/69.2M [00:00<00:00, 104MB/s] \n",
            "100% 69.2M/69.2M [00:00<00:00, 105MB/s]\n"
          ]
        }
      ],
      "source": [
        "!KAGGLE_CONFIG_DIR=/content/ kaggle datasets download -d abbasitc/cotton-weed-classification-dataset"
      ]
    },
    {
      "cell_type": "markdown",
      "source": [
        "**Meng-Ekstrak file zip Dataset**"
      ],
      "metadata": {
        "id": "1qZ9aujKHDPH"
      }
    },
    {
      "cell_type": "code",
      "execution_count": null,
      "metadata": {
        "id": "BD_i_SQcQ_fg"
      },
      "outputs": [],
      "source": [
        "zip_ref = zipfile.ZipFile('/content/cotton-weed-classification-dataset.zip', 'r')\n",
        "zip_ref.extractall('/tmp/cotton-weed-classification-dataset')\n",
        "zip_ref.close()"
      ]
    },
    {
      "cell_type": "code",
      "execution_count": null,
      "metadata": {
        "colab": {
          "base_uri": "https://localhost:8080/"
        },
        "id": "sxMFy53TAAdf",
        "outputId": "19138461-4364-4320-85e6-10a71e3e072b"
      },
      "outputs": [
        {
          "output_type": "execute_result",
          "data": {
            "text/plain": [
              "['test', 'train']"
            ]
          },
          "metadata": {},
          "execution_count": 5
        }
      ],
      "source": [
        "os.listdir('/tmp/cotton-weed-classification-dataset/Segmtd_Cotton_Weed_Leaves_Dataset/Segmtd_Cotton_Weed_Leaves_Dataset')"
      ]
    },
    {
      "cell_type": "markdown",
      "source": [
        "**Mengakses dan Mengelola File Dataset, Kemudian Memasukkan File Ke Dalam Array Setelah di Proses**"
      ],
      "metadata": {
        "id": "BEzy3TvhHWpa"
      }
    },
    {
      "cell_type": "code",
      "execution_count": null,
      "metadata": {
        "id": "ugZL5vAGAt-M"
      },
      "outputs": [],
      "source": [
        "flat_data_arr = []\n",
        "target_arr = []\n",
        "path_1 = glob.glob('/tmp/cotton-weed-classification-dataset/Segmtd_Cotton_Weed_Leaves_Dataset/Segmtd_Cotton_Weed_Leaves_Dataset/train/cotton/*.jpg')\n",
        "for image in path_1:\n",
        "    n = cv2.imread(image)\n",
        "    n = cv2.resize(n,(150,150))\n",
        "    n = np.asarray(n)/255\n",
        "    flat_data_arr.append(n.flatten())\n",
        "    target_arr.append(0)\n",
        "\n",
        "\n",
        "path_2 = glob.glob('/tmp/cotton-weed-classification-dataset/Segmtd_Cotton_Weed_Leaves_Dataset/Segmtd_Cotton_Weed_Leaves_Dataset/train/weed/*.jpg')\n",
        "for image in path_2:\n",
        "    n = cv2.imread(image)\n",
        "    n = cv2.resize(n,(150,150))\n",
        "    n = np.asarray(n)/255\n",
        "    flat_data_arr.append(n.flatten())\n",
        "    target_arr.append(1)\n",
        "\n",
        "\n",
        "path_1 = glob.glob('/tmp/cotton-weed-classification-dataset/Segmtd_Cotton_Weed_Leaves_Dataset/Segmtd_Cotton_Weed_Leaves_Dataset/test/cotton/*.jpg')\n",
        "for image in path_1:\n",
        "    n = cv2.imread(image)\n",
        "    n = cv2.resize(n,(150,150))\n",
        "    n = np.asarray(n)/255\n",
        "    flat_data_arr.append(n.flatten())\n",
        "    target_arr.append(0)\n",
        "\n",
        "\n",
        "path_2 = glob.glob('/tmp/cotton-weed-classification-dataset/Segmtd_Cotton_Weed_Leaves_Dataset/Segmtd_Cotton_Weed_Leaves_Dataset/test/weed/*.jpg')\n",
        "for image in path_2:\n",
        "    n = cv2.imread(image)\n",
        "    n = cv2.resize(n,(150,150))\n",
        "    n = np.asarray(n)/255\n",
        "    flat_data_arr.append(n.flatten())\n",
        "    target_arr.append(1)"
      ]
    },
    {
      "cell_type": "markdown",
      "source": [
        "**Melakukan Split Pada Dataset**"
      ],
      "metadata": {
        "id": "mdcOMEb9HjrU"
      }
    },
    {
      "cell_type": "code",
      "execution_count": null,
      "metadata": {
        "id": "fdIxGBavlB8V"
      },
      "outputs": [],
      "source": [
        "X = np.array(flat_data_arr)\n",
        "Y = np.array(target_arr)\n",
        "x_train, x_test, y_train, y_test = train_test_split(X,Y,test_size=0.1,shuffle=True,stratify=Y)"
      ]
    },
    {
      "cell_type": "markdown",
      "metadata": {
        "id": "m4oCqjuz5rK_"
      },
      "source": [
        "**Melakukan Tuning Parameter**"
      ]
    },
    {
      "cell_type": "code",
      "execution_count": null,
      "metadata": {
        "colab": {
          "base_uri": "https://localhost:8080/"
        },
        "id": "_QBpCYlKTqyZ",
        "outputId": "9661e4ab-a127-47b0-c739-60b693e50c9a"
      },
      "outputs": [
        {
          "output_type": "stream",
          "name": "stdout",
          "text": [
            "{'C': 1, 'gamma': 0.0001, 'kernel': 'rbf'}\n"
          ]
        }
      ],
      "source": [
        "# Menggunakan Model Algoritma Support Vector Machine \n",
        "svc_model = SVC()\n",
        "parameters = {\n",
        "    'kernel': ['rbf','poly', 'sigmoid'],\n",
        "    'C': [0.1, 1, 10, 100],\n",
        "    'gamma': [0.0001, 0.001, 0.1, 1]\n",
        "}\n",
        "\n",
        "svc_model_search = GridSearchCV(svc_model, parameters, cv=5)\n",
        "\n",
        "# melatih model dengan fungsi fit\n",
        "svc_model_search.fit(x_train, y_train)\n",
        "\n",
        "# menampilkan parameter terbaik dari objek grid_search\n",
        "print(svc_model_search.best_params_)"
      ]
    },
    {
      "cell_type": "code",
      "execution_count": null,
      "metadata": {
        "id": "ih6Dh0u70Uk_",
        "colab": {
          "base_uri": "https://localhost:8080/"
        },
        "outputId": "b500c1da-32df-45f4-8bde-71ea7341d721"
      },
      "outputs": [
        {
          "output_type": "stream",
          "name": "stdout",
          "text": [
            "{'max_depth': 5, 'n_estimators': 30}\n"
          ]
        }
      ],
      "source": [
        "# Menggunakan Model Algoritma Random Forest Classifier (RFC)\n",
        "rfc_model = RandomForestClassifier()\n",
        "parameters =  {\n",
        "    'n_estimators': range(10, 51, 10),\n",
        "    'max_depth': range(5, 26, 5),\n",
        "}\n",
        "\n",
        "rfc_model_search = GridSearchCV(rfc_model, parameters, cv=5)\n",
        "\n",
        "# melatih model dengan fungsi fit\n",
        "rfc_model_search.fit(x_train, y_train)\n",
        "\n",
        "# menampilkan parameter terbaik dari objek grid_search\n",
        "print(rfc_model_search.best_params_)"
      ]
    },
    {
      "cell_type": "code",
      "execution_count": null,
      "metadata": {
        "id": "222DVpZF19ua",
        "colab": {
          "base_uri": "https://localhost:8080/"
        },
        "outputId": "6f96a323-02d4-49c1-aa89-9579b56575a8"
      },
      "outputs": [
        {
          "output_type": "stream",
          "name": "stdout",
          "text": [
            "{'n_neighbors': 13}\n"
          ]
        }
      ],
      "source": [
        "# Menggunakan Algoritma K-Neighbors Classifier (KNC)\n",
        "knn_model = KNeighborsClassifier()\n",
        "parameters =  {\n",
        "    'n_neighbors': range(1, 51, 2),\n",
        "}\n",
        "\n",
        "knn_model_search = GridSearchCV(knn_model, parameters, cv=5)\n",
        "\n",
        "# melatih model dengan fungsi fit\n",
        "knn_model_search.fit(x_train, y_train)\n",
        "\n",
        "# menampilkan parameter terbaik dari objek grid_search\n",
        "knn_model_best_params = knn_model_search.best_params_\n",
        "print(knn_model_best_params)"
      ]
    },
    {
      "cell_type": "markdown",
      "source": [
        "Menguji atau Menghitung **Akurasi, confusion_matrix dan classificatin_report** Pada Masing-Masing Model"
      ],
      "metadata": {
        "id": "h4EeyL56DI-w"
      }
    },
    {
      "cell_type": "code",
      "source": [
        "model_svm = SVC(C=1, kernel='rbf', gamma=0.0001)\n",
        "\n",
        "print(model_svm.fit(x_train,y_train))\n",
        "\n",
        "accuracy_svm = model_svm.score(x_test,y_test)\n",
        "print(\"Akurasi Model SVC = {}\\n\".format(accuracy_svm))\n",
        "\n",
        "y_pred = model_svm.predict(x_test)\n",
        "cm_svm = confusion_matrix(y_test, y_pred)\n",
        "print(\"==> Hasil confusion_matrix\\n\")\n",
        "print('{}\\n'.format(cm_svm))\n",
        "\n",
        "cr_svm = classification_report(y_test, y_pred)\n",
        "print(\"==> Hasil classification_report\\n\")\n",
        "print(cr_svm)"
      ],
      "metadata": {
        "colab": {
          "base_uri": "https://localhost:8080/"
        },
        "id": "HEyg4aNnAhK5",
        "outputId": "0c949b62-333c-4dcc-9876-587f770be8f0"
      },
      "execution_count": null,
      "outputs": [
        {
          "output_type": "stream",
          "name": "stdout",
          "text": [
            "SVC(C=1, gamma=0.0001)\n",
            "Akurasi Model SVC = 0.7878787878787878\n",
            "\n",
            "==> Hasil confusion_matrix\n",
            "\n",
            "[[19  1]\n",
            " [ 6  7]]\n",
            "\n",
            "==> Hasil classification_report\n",
            "\n",
            "              precision    recall  f1-score   support\n",
            "\n",
            "           0       0.76      0.95      0.84        20\n",
            "           1       0.88      0.54      0.67        13\n",
            "\n",
            "    accuracy                           0.79        33\n",
            "   macro avg       0.82      0.74      0.76        33\n",
            "weighted avg       0.81      0.79      0.77        33\n",
            "\n"
          ]
        }
      ]
    },
    {
      "cell_type": "code",
      "source": [
        "model_rfc = RandomForestClassifier(max_depth= 5, n_estimators= 30)\n",
        "\n",
        "print(model_rfc.fit(x_train,y_train))\n",
        "\n",
        "accuracy_rfc = model_rfc.score(x_test,y_test)\n",
        "print(\"Akurasi Model SVC = {}\\n\".format(accuracy_rfc))\n",
        "\n",
        "y_pred = model_rfc.predict(x_test)\n",
        "cm_rfc = confusion_matrix(y_test, y_pred)\n",
        "print(\"==> Hasil confusion_matrix\\n\")\n",
        "print('{}\\n'.format(cm_rfc))\n",
        "\n",
        "cr_rfc = classification_report(y_test, y_pred)\n",
        "print(\"==> Hasil classification_report\\n\")\n",
        "print(cr_rfc)"
      ],
      "metadata": {
        "colab": {
          "base_uri": "https://localhost:8080/"
        },
        "id": "oM-zWk-zDhTf",
        "outputId": "63e801a1-3868-44bb-beb3-d2c08fe27598"
      },
      "execution_count": null,
      "outputs": [
        {
          "output_type": "stream",
          "name": "stdout",
          "text": [
            "RandomForestClassifier(max_depth=5, n_estimators=30)\n",
            "Akurasi Model SVC = 0.7272727272727273\n",
            "\n",
            "==> Hasil confusion_matrix\n",
            "\n",
            "[[19  1]\n",
            " [ 8  5]]\n",
            "\n",
            "==> Hasil classification_report\n",
            "\n",
            "              precision    recall  f1-score   support\n",
            "\n",
            "           0       0.70      0.95      0.81        20\n",
            "           1       0.83      0.38      0.53        13\n",
            "\n",
            "    accuracy                           0.73        33\n",
            "   macro avg       0.77      0.67      0.67        33\n",
            "weighted avg       0.75      0.73      0.70        33\n",
            "\n"
          ]
        }
      ]
    },
    {
      "cell_type": "code",
      "source": [
        "model_knn = KNeighborsClassifier(n_neighbors=13)\n",
        "\n",
        "print(model_knn.fit(x_train,y_train))\n",
        "\n",
        "accuracy_knn = model_knn.score(x_test,y_test)\n",
        "print(\"Akurasi Model SVC = {}\\n\".format(accuracy_knn))\n",
        "\n",
        "y_pred = model_knn.predict(x_test)\n",
        "cm_knn = confusion_matrix(y_test, y_pred)\n",
        "print(\"==> Hasil confusion_matrix\\n\")\n",
        "print('{}\\n'.format(cm_knn))\n",
        "\n",
        "cr_knn = classification_report(y_test, y_pred)\n",
        "print(\"==> Hasil classification_report\\n\")\n",
        "print(cr_knn)"
      ],
      "metadata": {
        "colab": {
          "base_uri": "https://localhost:8080/"
        },
        "id": "l2hXXQe9DhGF",
        "outputId": "22213595-2b15-4a38-c836-65f39a625caa"
      },
      "execution_count": null,
      "outputs": [
        {
          "output_type": "stream",
          "name": "stdout",
          "text": [
            "KNeighborsClassifier(n_neighbors=13)\n",
            "Akurasi Model SVC = 0.6666666666666666\n",
            "\n",
            "==> Hasil confusion_matrix\n",
            "\n",
            "[[15  5]\n",
            " [ 6  7]]\n",
            "\n",
            "==> Hasil classification_report\n",
            "\n",
            "              precision    recall  f1-score   support\n",
            "\n",
            "           0       0.71      0.75      0.73        20\n",
            "           1       0.58      0.54      0.56        13\n",
            "\n",
            "    accuracy                           0.67        33\n",
            "   macro avg       0.65      0.64      0.65        33\n",
            "weighted avg       0.66      0.67      0.66        33\n",
            "\n"
          ]
        }
      ]
    },
    {
      "cell_type": "code",
      "execution_count": null,
      "metadata": {
        "id": "tII6VrKVT9vu",
        "colab": {
          "base_uri": "https://localhost:8080/",
          "height": 143
        },
        "outputId": "9650bb57-e1d1-40c8-8fef-d64cd5ff8544"
      },
      "outputs": [
        {
          "output_type": "execute_result",
          "data": {
            "text/plain": [
              "                    Model      Score\n",
              "0                     SVM  78.787879\n",
              "1  RandomForestClassifier  72.727273\n",
              "2    KNeighborsClassifier  66.666667"
            ],
            "text/html": [
              "\n",
              "  <div id=\"df-f2e7db82-b0e8-4d19-9a9e-745dcdf48ee2\">\n",
              "    <div class=\"colab-df-container\">\n",
              "      <div>\n",
              "<style scoped>\n",
              "    .dataframe tbody tr th:only-of-type {\n",
              "        vertical-align: middle;\n",
              "    }\n",
              "\n",
              "    .dataframe tbody tr th {\n",
              "        vertical-align: top;\n",
              "    }\n",
              "\n",
              "    .dataframe thead th {\n",
              "        text-align: right;\n",
              "    }\n",
              "</style>\n",
              "<table border=\"1\" class=\"dataframe\">\n",
              "  <thead>\n",
              "    <tr style=\"text-align: right;\">\n",
              "      <th></th>\n",
              "      <th>Model</th>\n",
              "      <th>Score</th>\n",
              "    </tr>\n",
              "  </thead>\n",
              "  <tbody>\n",
              "    <tr>\n",
              "      <th>0</th>\n",
              "      <td>SVM</td>\n",
              "      <td>78.787879</td>\n",
              "    </tr>\n",
              "    <tr>\n",
              "      <th>1</th>\n",
              "      <td>RandomForestClassifier</td>\n",
              "      <td>72.727273</td>\n",
              "    </tr>\n",
              "    <tr>\n",
              "      <th>2</th>\n",
              "      <td>KNeighborsClassifier</td>\n",
              "      <td>66.666667</td>\n",
              "    </tr>\n",
              "  </tbody>\n",
              "</table>\n",
              "</div>\n",
              "      <button class=\"colab-df-convert\" onclick=\"convertToInteractive('df-f2e7db82-b0e8-4d19-9a9e-745dcdf48ee2')\"\n",
              "              title=\"Convert this dataframe to an interactive table.\"\n",
              "              style=\"display:none;\">\n",
              "        \n",
              "  <svg xmlns=\"http://www.w3.org/2000/svg\" height=\"24px\"viewBox=\"0 0 24 24\"\n",
              "       width=\"24px\">\n",
              "    <path d=\"M0 0h24v24H0V0z\" fill=\"none\"/>\n",
              "    <path d=\"M18.56 5.44l.94 2.06.94-2.06 2.06-.94-2.06-.94-.94-2.06-.94 2.06-2.06.94zm-11 1L8.5 8.5l.94-2.06 2.06-.94-2.06-.94L8.5 2.5l-.94 2.06-2.06.94zm10 10l.94 2.06.94-2.06 2.06-.94-2.06-.94-.94-2.06-.94 2.06-2.06.94z\"/><path d=\"M17.41 7.96l-1.37-1.37c-.4-.4-.92-.59-1.43-.59-.52 0-1.04.2-1.43.59L10.3 9.45l-7.72 7.72c-.78.78-.78 2.05 0 2.83L4 21.41c.39.39.9.59 1.41.59.51 0 1.02-.2 1.41-.59l7.78-7.78 2.81-2.81c.8-.78.8-2.07 0-2.86zM5.41 20L4 18.59l7.72-7.72 1.47 1.35L5.41 20z\"/>\n",
              "  </svg>\n",
              "      </button>\n",
              "      \n",
              "  <style>\n",
              "    .colab-df-container {\n",
              "      display:flex;\n",
              "      flex-wrap:wrap;\n",
              "      gap: 12px;\n",
              "    }\n",
              "\n",
              "    .colab-df-convert {\n",
              "      background-color: #E8F0FE;\n",
              "      border: none;\n",
              "      border-radius: 50%;\n",
              "      cursor: pointer;\n",
              "      display: none;\n",
              "      fill: #1967D2;\n",
              "      height: 32px;\n",
              "      padding: 0 0 0 0;\n",
              "      width: 32px;\n",
              "    }\n",
              "\n",
              "    .colab-df-convert:hover {\n",
              "      background-color: #E2EBFA;\n",
              "      box-shadow: 0px 1px 2px rgba(60, 64, 67, 0.3), 0px 1px 3px 1px rgba(60, 64, 67, 0.15);\n",
              "      fill: #174EA6;\n",
              "    }\n",
              "\n",
              "    [theme=dark] .colab-df-convert {\n",
              "      background-color: #3B4455;\n",
              "      fill: #D2E3FC;\n",
              "    }\n",
              "\n",
              "    [theme=dark] .colab-df-convert:hover {\n",
              "      background-color: #434B5C;\n",
              "      box-shadow: 0px 1px 3px 1px rgba(0, 0, 0, 0.15);\n",
              "      filter: drop-shadow(0px 1px 2px rgba(0, 0, 0, 0.3));\n",
              "      fill: #FFFFFF;\n",
              "    }\n",
              "  </style>\n",
              "\n",
              "      <script>\n",
              "        const buttonEl =\n",
              "          document.querySelector('#df-f2e7db82-b0e8-4d19-9a9e-745dcdf48ee2 button.colab-df-convert');\n",
              "        buttonEl.style.display =\n",
              "          google.colab.kernel.accessAllowed ? 'block' : 'none';\n",
              "\n",
              "        async function convertToInteractive(key) {\n",
              "          const element = document.querySelector('#df-f2e7db82-b0e8-4d19-9a9e-745dcdf48ee2');\n",
              "          const dataTable =\n",
              "            await google.colab.kernel.invokeFunction('convertToInteractive',\n",
              "                                                     [key], {});\n",
              "          if (!dataTable) return;\n",
              "\n",
              "          const docLinkHtml = 'Like what you see? Visit the ' +\n",
              "            '<a target=\"_blank\" href=https://colab.research.google.com/notebooks/data_table.ipynb>data table notebook</a>'\n",
              "            + ' to learn more about interactive tables.';\n",
              "          element.innerHTML = '';\n",
              "          dataTable['output_type'] = 'display_data';\n",
              "          await google.colab.output.renderOutput(dataTable, element);\n",
              "          const docLink = document.createElement('div');\n",
              "          docLink.innerHTML = docLinkHtml;\n",
              "          element.appendChild(docLink);\n",
              "        }\n",
              "      </script>\n",
              "    </div>\n",
              "  </div>\n",
              "  "
            ]
          },
          "metadata": {},
          "execution_count": 38
        }
      ],
      "source": [
        "models = pd.DataFrame({\n",
        "    'Model': ['SVM','RandomForestClassifier', 'KNeighborsClassifier'],\n",
        "\n",
        "    'Score': [accuracy_svm*100,\n",
        "              accuracy_rfc*100,\n",
        "              accuracy_knn*100]})\n",
        "\n",
        "models.sort_values(by='Score', ascending=False)"
      ]
    },
    {
      "cell_type": "code",
      "execution_count": null,
      "metadata": {
        "colab": {
          "base_uri": "https://localhost:8080/",
          "height": 265
        },
        "id": "km5UKw4fT_CS",
        "outputId": "4758dd4f-655e-4593-f9bd-559ab5b0feb6"
      },
      "outputs": [
        {
          "output_type": "display_data",
          "data": {
            "text/plain": [
              "<Figure size 432x288 with 1 Axes>"
            ],
            "image/png": "[encoded data removed]"
          },
          "metadata": {
            "needs_background": "light"
          }
        }
      ],
      "source": [
        "# Visualisasi dari prediksi yang telah dilakukan\n",
        "fig, ax = plt.subplots()\n",
        "models.sort_values(by='Score', ascending=True).plot(kind='barh', ax=ax, zorder=3)\n",
        "ax.grid(zorder=0)"
      ]
    }
  ],
  "metadata": {
    "colab": {
      "provenance": [],
      "authorship_tag": "ABX9TyNGijVWyN/JbHjedQKZOXoM",
      "include_colab_link": true
    },
    "kernelspec": {
      "display_name": "Python 3",
      "name": "python3"
    },
    "language_info": {
      "name": "python"
    }
  },
  "nbformat": 4,
  "nbformat_minor": 0
}